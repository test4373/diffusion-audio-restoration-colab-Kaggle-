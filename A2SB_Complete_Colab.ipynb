{
  "cells": [
    {
      "cell_type": "markdown",
      "metadata": {
        "id": "header"
      },
      "source": [
        "# 🎵 A2SB: Ses Restorasyonu - Google Colab\n",
        "\n",
        "**NVIDIA A2SB ile Yüksek Kaliteli Ses Restorasyonu**\n",
        "\n",
        "Bu notebook ile ses dosyalarınızı AI ile restore edebilirsiniz!\n",
        "\n",
        "## 🚀 Özellikler\n",
        "- ✅ 44.1kHz yüksek çözünürlüklü ses restorasyonu\n",
        "- ✅ Bandwidth extension (yüksek frekans tahmini)\n",
        "- ✅ Audio inpainting (eksik kısımları doldurma)\n",
        "- ✅ Kullanıcı dostu Gradio arayüzü\n",
        "\n",
        "## 📋 Gereksinimler\n",
        "- 🎯 **GPU**: T4 veya daha iyi (Colab Pro önerilir)\n",
        "- 💾 **RAM**: Minimum 12GB\n",
        "- ⏱️ **Süre**: 10 saniyelik ses için ~2-3 dakika\n",
        "\n",
        "## 📚 Kaynaklar\n",
        "- 📄 [Paper](https://arxiv.org/abs/2501.11311)\n",
        "- 💻 [GitHub](https://github.com/test4373/diffusion-audio-restoration-colab-Kaggle-.git)\n",
        "- 🤗 [Models](https://huggingface.co/nvidia/audio_to_audio_schrodinger_bridge)\n",
        "\n",
        "---\n",
        "\n",
        "**Kullanım:** Hücreleri sırayla çalıştırın. Son hücre Gradio arayüzünü başlatacak!"
      ]
    },
    {
      "cell_type": "markdown",
      "metadata": {
        "id": "step1"
      },
      "source": [
        "## 📦 Adım 1: Kurulum (5-10 dakika)\n",
        "\n",
        "Repository'yi klonlayıp gerekli kütüphaneleri yükleyelim."
      ]
    },
    {
      "cell_type": "code",
      "execution_count": null,
      "metadata": {
        "id": "setup"
      },
      "outputs": [],
      "source": [
        "# Repository'yi klonla\n",
        "print(\"📥 Repository klonlanıyor...\\n\")\n",
        "!git clone https://github.com/test4373/diffusion-audio-restoration-colab-Kaggle-.git\n",
        "%cd diffusion-audio-restoration-colab-Kaggle-\n",
        "\n",
        "# Kütüphaneleri yükle\n",
        "print(\"\\n📦 Kütüphaneler yükleniyor... (5-10 dakika)\\n\")\n",
        "!pip install -q -r requirements.txt\n",
        "!pip install -q torch torchvision torchaudio --index-url https://download.pytorch.org/whl/cu118\n",
        "!pip install -q nest-asyncio\n",
        "\n",
        "# Doğrulama\n",
        "import torch\n",
        "import gradio as gr\n",
        "import nest_asyncio\n",
        "nest_asyncio.apply()\n",
        "\n",
        "print(\"\\n\" + \"=\"*60)\n",
        "print(\"✅ Kurulum tamamlandı!\")\n",
        "print(\"=\"*60)\n",
        "print(f\"\\n✓ PyTorch: {torch.__version__}\")\n",
        "print(f\"✓ Gradio: {gr.__version__}\")\n",
        "print(f\"✓ CUDA: {torch.cuda.is_available()}\")\n",
        "if torch.cuda.is_available():\n",
        "    print(f\"✓ GPU: {torch.cuda.get_device_name(0)}\")\n",
        "    print(f\"✓ GPU Bellek: {torch.cuda.get_device_properties(0).total_memory / 1024**3:.1f} GB\")\n",
        "print(\"\\n🎉 Hazır!\\n\")"
      ]
    },
    {
      "cell_type": "markdown",
      "metadata": {
        "id": "step2"
      },
      "source": [
        "## 📥 Adım 2: Model İndirme (5-10 dakika)\n",
        "\n",
        "İki model checkpoint'i indireceğiz (~4.5GB toplam)."
      ]
    },
    {
      "cell_type": "code",
      "execution_count": null,
      "metadata": {
        "id": "download"
      },
      "outputs": [],
      "source": [
        "import os\n",
        "\n",
        "# Checkpoint dizini oluştur\n",
        "!mkdir -p ckpt\n",
        "\n",
        "print(\"📥 Modeller indiriliyor... (5-10 dakika)\\n\")\n",
        "\n",
        "# Model 1: One-split (0.0-1.0)\n",
        "model1 = 'ckpt/A2SB_onesplit_0.0_1.0_release.ckpt'\n",
        "if not os.path.exists(model1):\n",
        "    print(\"⬇️  Model 1 indiriliyor... (~2.3GB)\")\n",
        "    !wget -q --show-progress https://huggingface.co/nvidia/audio_to_audio_schrodinger_bridge/resolve/main/ckpt/A2SB_onesplit_0.0_1.0_release.ckpt -O {model1}\n",
        "    print(\"✅ Model 1 indirildi!\\n\")\n",
        "else:\n",
        "    print(\"✓ Model 1 zaten mevcut\\n\")\n",
        "\n",
        "# Model 2: Two-split (0.5-1.0)\n",
        "model2 = 'ckpt/A2SB_twosplit_0.5_1.0_release.ckpt'\n",
        "if not os.path.exists(model2):\n",
        "    print(\"⬇️  Model 2 indiriliyor... (~2.3GB)\")\n",
        "    !wget -q --show-progress https://huggingface.co/nvidia/audio_to_audio_schrodinger_bridge/resolve/main/ckpt/A2SB_twosplit_0.5_1.0_release.ckpt -O {model2}\n",
        "    print(\"✅ Model 2 indirildi!\\n\")\n",
        "else:\n",
        "    print(\"✓ Model 2 zaten mevcut\\n\")\n",
        "\n",
        "print(\"=\"*60)\n",
        "print(\"✅ Tüm modeller hazır!\")\n",
        "print(\"=\"*60)"
      ]
    },
    {
      "cell_type": "markdown",
      "metadata": {
        "id": "step3"
      },
      "source": [
        "## ⚙️ Adım 3: Konfigürasyon\n",
        "\n",
        "Model yollarını ayarlayalım."
      ]
    },
    {
      "cell_type": "code",
      "execution_count": null,
      "metadata": {
        "id": "config"
      },
      "outputs": [],
      "source": [
        "import yaml\n",
        "\n",
        "print(\"⚙️  Konfigürasyon güncelleniyor...\\n\")\n",
        "\n",
        "config_path = 'configs/ensemble_2split_sampling.yaml'\n",
        "with open(config_path, 'r') as f:\n",
        "    config = yaml.safe_load(f)\n",
        "\n",
        "config['model']['pretrained_checkpoints'] = [\n",
        "    'ckpt/A2SB_onesplit_0.0_1.0_release.ckpt',\n",
        "    'ckpt/A2SB_twosplit_0.5_1.0_release.ckpt'\n",
        "]\n",
        "\n",
        "with open(config_path, 'w') as f:\n",
        "    yaml.dump(config, f)\n",
        "\n",
        "print(\"✅ Konfigürasyon güncellendi!\")\n",
        "print(f\"\\nModel yolları:\")\n",
        "for i, path in enumerate(config['model']['pretrained_checkpoints'], 1):\n",
        "    print(f\"  {i}. {path}\")"
      ]
    },
    {
      "cell_type": "markdown",
      "metadata": {
        "id": "step4"
      },
      "source": [
        "## 🎨 Adım 4: Gradio Arayüzünü Başlat\n",
        "\n",
        "### 🚀 Ses restorasyonu için hazır!\n",
        "\n",
        "**Nasıl kullanılır:**\n",
        "1. Aşağıdaki hücreyi çalıştırın\n",
        "2. Çıkan linke tıklayın (`.gradio.live` ile biter)\n",
        "3. Ses dosyası yükleyin veya mikrofon ile kaydedin\n",
        "4. Mod seçin:\n",
        "   - **Bandwidth Extension**: Yüksek frekansları restore et (düşük kaliteli MP3'ler için)\n",
        "   - **Inpainting**: Eksik kısımları doldur\n",
        "5. \"🚀 Restore Et\" butonuna tıklayın\n",
        "6. Sonucu dinleyin ve indirin!\n",
        "\n",
        "**Ayarlar:**\n",
        "- **Sampling Steps**: 25-100 (yüksek = daha iyi kalite, daha yavaş)\n",
        "  - Hızlı: 25-30 adım\n",
        "  - Dengeli: 50 adım ⭐ Önerilen\n",
        "  - En iyi: 75-100 adım\n",
        "- **Otomatik Cutoff**: Cutoff frekansını otomatik tespit et ⭐ Önerilen\n",
        "- **Inpainting Uzunluğu**: 0.1-1.0 saniye\n",
        "\n",
        "**İşlem Süreleri (T4 GPU):**\n",
        "- 10 saniye ses, 50 adım: ~2-3 dakika\n",
        "- 30 saniye ses, 50 adım: ~5-7 dakika\n",
        "- 60 saniye ses, 50 adım: ~10-15 dakika\n",
        "\n",
        "**⚠️ Önemli:**\n",
        "- İşlem sırasında notebook'u açık tutun\n",
        "- \"Out of Memory\" hatası alırsanız sampling steps'i azaltın\n",
        "- Kısa ses dosyalarıyla test edin"
      ]
    },
    {
      "cell_type": "code",
      "execution_count": null,
      "metadata": {
        "id": "launch"
      },
      "outputs": [],
      "source": [
        "# Gradio arayüzünü başlat\n",
        "print(\"🚀 Gradio arayüzü başlatılıyor...\\n\")\n",
        "print(\"⏱️  Lütfen linkin görünmesini bekleyin.\\n\")\n",
        "print(\"=\"*60)\n",
        "\n",
        "!python gradio_app.py\n",
        "\n",
        "print(\"\\n\" + \"=\"*60)\n",
        "print(\"✅ Gradio arayüzü başlatıldı!\")\n",
        "print(\"Yukarıdaki linke tıklayarak arayüze erişin.\")\n",
        "print(\"=\"*60)"
      ]
    },
    {
      "cell_type": "markdown",
      "metadata": {
        "id": "tips"
      },
      "source": [
        "## 💡 İpuçları ve Sorun Giderme\n",
        "\n",
        "### ⚡ Performans\n",
        "\n",
        "**GPU Gereksinimleri:**\n",
        "- ✅ T4 (16GB) - Colab Pro\n",
        "- ✅ V100 (32GB) - Colab Pro+\n",
        "- ✅ A100 (40GB) - Colab Pro+\n",
        "- ⚠️ Ücretsiz Colab - Bellek hatası alabilirsiniz\n",
        "\n",
        "### 🎯 Kalite Ayarları\n",
        "\n",
        "**Sampling Steps:**\n",
        "- 25-30: Hızlı (iyi kalite)\n",
        "- 50-75: Dengeli (mükemmel kalite) ⭐\n",
        "- 75-100: En iyi (olağanüstü kalite)\n",
        "\n",
        "**Cutoff Frekansı (Bandwidth Extension):**\n",
        "- Otomatik tespit: Genellikle en iyi ⭐\n",
        "- Manuel:\n",
        "  - Düşük kalite MP3: 2000-4000 Hz\n",
        "  - Orta kalite: 4000-8000 Hz\n",
        "  - Yüksek kalite: 8000+ Hz\n",
        "\n",
        "### ❌ Yaygın Hatalar\n",
        "\n",
        "**\"Out of Memory\" Hatası:**\n",
        "- Sampling steps'i azaltın (25-30)\n",
        "- Daha kısa ses dosyası kullanın\n",
        "- Colab Pro'ya geçin\n",
        "\n",
        "**Session Timeout:**\n",
        "- Colab Pro kullanın (daha uzun oturum)\n",
        "- Sekmeyi aktif tutun\n",
        "- Kısa ses dosyaları işleyin\n",
        "\n",
        "### 📖 Lisans\n",
        "\n",
        "- **Model**: NVIDIA OneWay NonCommercial License\n",
        "- **Kod**: NVIDIA Source Code License - Non Commercial\n",
        "- **Ticari Kullanım**: NVIDIA ile iletişime geçin\n",
        "- **Araştırma**: Akademik ve araştırma amaçlı ücretsiz\n",
        "\n",
        "### 🔗 Ek Kaynaklar\n",
        "\n",
        "- **Paper**: [arXiv:2501.11311](https://arxiv.org/abs/2501.11311)\n",
        "- **GitHub**: [test4373/diffusion-audio-restoration](https://github.com/test4373/diffusion-audio-restoration-colab-Kaggle-.git)\n",
        "- **NVIDIA Demo**: [research.nvidia.com](https://research.nvidia.com/labs/adlr/A2SB/)\n",
        "- **Models**: [HuggingFace](https://huggingface.co/nvidia/audio_to_audio_schrodinger_bridge)\n",
        "\n",
        "---\n",
        "\n",
        "### 🎉 Teşekkürler!\n",
        "\n",
        "Bu notebook'u kullandı��ınız için teşekkürler!\n",
        "\n",
        "**Alıntı:**\n",
        "```bibtex\n",
        "@article{kong2025a2sb,\n",
        "  title={A2SB: Audio-to-Audio Schrodinger Bridges},\n",
        "  author={Kong, Zhifeng and Shih, Kevin J and Nie, Weili and Vahdat, Arash and Lee, Sang-gil and Santos, Joao Felipe and Jukic, Ante and Valle, Rafael and Catanzaro, Bryan},\n",
        "  journal={arXiv preprint arXiv:2501.11311},\n",
        "  year={2025}\n",
        "}\n",
        "```\n",
        "\n",
        "### ⭐ Projeyi Destekle\n",
        "\n",
        "Faydalı bulduysanız:\n",
        "- ⭐ [GitHub repository](https://github.com/test4373/diffusion-audio-restoration-colab-Kaggle-.git)'ye yıldız verin\n",
        "- 🐛 Hata bildirin veya özellik önerin\n",
        "- 📢 Başkalarıyla paylaşın\n",
        "\n",
        "---\n",
        "\n",
        "**❤️ Ses restorasyonu topluluğu için yapıldı**"
      ]
    }
  ],
  "metadata": {
    "accelerator": "GPU",
    "colab": {
      "gpuType": "T4",
      "provenance": [],
      "machine_shape": "hm"
    },
    "kernelspec": {
      "display_name": "Python 3",
      "name": "python3"
    },
    "language_info": {
      "name": "python",
      "version": "3.10.0"
    }
  },
  "nbformat": 4,
  "nbformat_minor": 0
}
